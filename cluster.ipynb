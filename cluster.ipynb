{
 "cells": [
  {
   "cell_type": "code",
   "execution_count": 2,
   "metadata": {},
   "outputs": [],
   "source": [
    "import pm4py as pm      \n",
    "import pandas as pd \n",
    "import numpy as np\n",
    "import matplotlib.pyplot as plt\n",
    "\n",
    "from pm4py.objects.log.importer.xes import importer as xes_importer\n",
    "from sklearn.feature_extraction.text import CountVectorizer\n",
    "from sklearn.preprocessing import StandardScaler\n",
    "from sklearn.cluster import DBSCAN\n",
    "from scipy.cluster.hierarchy import linkage, dendrogram, fcluster"
   ]
  },
  {
   "cell_type": "code",
<<<<<<< HEAD
   "execution_count": null,
=======
   "execution_count": 3,
>>>>>>> 1d1a249 (commit inicial)
   "metadata": {},
   "outputs": [
    {
     "name": "stderr",
     "output_type": "stream",
     "text": [
      "/home/notezandro/Desktop/Projetos/Mestrado/min/.venv/lib/python3.12/site-packages/tqdm/auto.py:21: TqdmWarning: IProgress not found. Please update jupyter and ipywidgets. See https://ipywidgets.readthedocs.io/en/stable/user_install.html\n",
      "  from .autonotebook import tqdm as notebook_tqdm\n",
      "parsing log, completed traces :: 100%|██████████| 10000/10000 [00:04<00:00, 2210.34it/s]\n"
     ]
    }
   ],
   "source": [
    "# Caminho para o arquivo XES\n",
    "file_path = '/home/notezandro/Desktop/Projetos/Mestrado/min/hiring_log_low.xes'\n",
    "\n",
    "# Carregar o log no formato XES\n",
<<<<<<< HEAD
    "\n",
=======
>>>>>>> 1d1a249 (commit inicial)
    "log = xes_importer.apply(file_path)\n",
    "\n",
    "# Converter o log XES para um DataFrame Pandas\n",
    "def log_to_dataframe(event_log):\n",
    "    \"\"\"\n",
    "    Converte um log XES da PM4Py em um DataFrame do Pandas.\n",
    "    Cada evento será representado como uma linha.\n",
    "    \"\"\"\n",
    "    data = []\n",
    "    for trace in event_log:\n",
    "        trace_id = trace.attributes.get(\"concept:name\", \"Unknown\")\n",
    "        for event in trace:\n",
    "            event_data = {\n",
    "                \"trace_id\": trace_id,\n",
    "                \"activity\": event[\"concept:name\"],\n",
    "                \"timestamp\": event.get(\"time:timestamp\", None),\n",
    "                **event\n",
    "            }\n",
    "            data.append(event_data)\n",
    "    return pd.DataFrame(data)\n",
    "\n",
    "# Converter o log para DataFrame\n",
    "event_log_df = log_to_dataframe(log)\n"
   ]
  },
  {
   "cell_type": "code",
   "execution_count": 4,
   "metadata": {},
   "outputs": [
    {
     "name": "stdout",
     "output_type": "stream",
     "text": [
      "  trace_id  \\\n",
      "0        1   \n",
      "1       10   \n",
      "2      100   \n",
      "3     1000   \n",
      "4    10000   \n",
      "\n",
      "                                                                                                                                                                   activity  \n",
      "0                                  [Hand In Job Application, Telephonic Screening, Background Check, Screening Interview, Extensive Background Check, Application Rejected]  \n",
      "1                                                                                                                           [Hand In Job Application, Application Rejected]  \n",
      "2                                                              [Hand In Job Application, Telephonic Screening, Screening Interview, Background Check, Application Rejected]  \n",
      "3  [Hand In Job Application, Telephonic Screening, Background Check, Screening Interview, Extensive Background Check, Coding Interview, ML Interview, Application Rejected]  \n",
      "4                              [Hand In Job Application, Telephonic Screening, Background Check, Screening Interview, Coding Interview, ML Interview, Application Rejected]  \n"
     ]
    }
   ],
   "source": [
    "# Seleção de colunas relevantes\n",
    "filtered_log = event_log_df[['trace_id', 'activity', 'timestamp']]\n",
    "\n",
    "# Ordenação dos eventos por traço e timestamp\n",
    "if 'timestamp' in filtered_log.columns:\n",
    "    filtered_log = filtered_log.sort_values(by=['trace_id', 'timestamp'])\n",
    "\n",
    "# Agrupamento de atividades por traço\n",
    "trace_sequences = filtered_log.groupby('trace_id')['activity'].apply(list).reset_index()\n",
    "\n",
    "# Ajustar opções de exibição no Pandas\n",
    "pd.set_option('display.max_colwidth', None)\n",
    "\n",
    "# Exibir os primeiros traços processados\n",
    "print(trace_sequences.head())\n"
   ]
  },
  {
   "cell_type": "code",
   "execution_count": 5,
   "metadata": {},
   "outputs": [
    {
     "name": "stdout",
     "output_type": "stream",
     "text": [
      "Atributos do traço: {'concept:name': '1', 'german speaking': False, 'yearsOfEducation': 8, 'age': 25, 'gender': False, 'citizen': True, 'protected': False, '@@case_index': 0, 'case': 1, 'religious': False}\n"
     ]
    }
   ],
   "source": [
    "example_trace = log[0]  # Seleciona o primeiro traço\n",
    "print(\"Atributos do traço:\", example_trace.attributes)"
   ]
  },
  {
   "cell_type": "code",
   "execution_count": 6,
   "metadata": {},
   "outputs": [
    {
     "name": "stdout",
     "output_type": "stream",
     "text": [
      "Index(['trace_id', 'activity', 'timestamp', 'trace_attr_concept:name',\n",
      "       'trace_attr_german speaking', 'trace_attr_yearsOfEducation',\n",
      "       'trace_attr_age', 'trace_attr_gender', 'trace_attr_citizen',\n",
      "       'trace_attr_protected', 'trace_attr_@@case_index', 'trace_attr_case',\n",
      "       'trace_attr_religious', 'resource', 'time', 'concept:name',\n",
      "       'time:timestamp', '@@index'],\n",
      "      dtype='object')\n"
     ]
    }
   ],
   "source": [
    "# Adicionando atributos ao DataFrame\n",
    "def log_to_dataframe_with_attributes(event_log):\n",
    "    data = []\n",
    "    for trace in event_log:\n",
    "        trace_id = trace.attributes.get(\"concept:name\", \"Unknown\")\n",
    "        # Inclui atributos do traço\n",
    "        trace_attrs = {f\"trace_attr_{k}\": v for k, v in trace.attributes.items()}\n",
    "        for event in trace:\n",
    "            event_data = {\n",
    "                \"trace_id\": trace_id,\n",
    "                \"activity\": event[\"concept:name\"],\n",
    "                \"timestamp\": event.get(\"time:timestamp\", None),\n",
    "                **trace_attrs,  # Adiciona atributos do traço\n",
    "                **event,  # Adiciona atributos do evento\n",
    "            }\n",
    "            data.append(event_data)\n",
    "    return pd.DataFrame(data)\n",
    "\n",
    "# Converte o log para DataFrame com atributos\n",
    "event_log_df_full = log_to_dataframe_with_attributes(log)\n",
    "\n",
    "# Exibir colunas disponíveis no novo DataFrame\n",
    "print(event_log_df_full.columns)"
   ]
  },
  {
   "cell_type": "code",
   "execution_count": 7,
   "metadata": {},
   "outputs": [
    {
     "name": "stdout",
     "output_type": "stream",
     "text": [
      "  trace_id                    activity                 timestamp  \\\n",
      "0        1     Hand In Job Application 2015-01-05 00:00:42+00:00   \n",
      "1        1        Telephonic Screening 2015-01-05 22:14:11+00:00   \n",
      "2        1            Background Check 2015-01-06 20:26:43+00:00   \n",
      "3        1         Screening Interview 2015-01-06 20:26:43+00:00   \n",
      "4        1  Extensive Background Check 2015-01-07 18:40:58+00:00   \n",
      "\n",
      "  trace_attr_concept:name  trace_attr_german speaking  \\\n",
      "0                       1                       False   \n",
      "1                       1                       False   \n",
      "2                       1                       False   \n",
      "3                       1                       False   \n",
      "4                       1                       False   \n",
      "\n",
      "   trace_attr_yearsOfEducation  trace_attr_age  trace_attr_gender  \\\n",
      "0                            8              25              False   \n",
      "1                            8              25              False   \n",
      "2                            8              25              False   \n",
      "3                            8              25              False   \n",
      "4                            8              25              False   \n",
      "\n",
      "   trace_attr_citizen  trace_attr_protected  trace_attr_@@case_index  \\\n",
      "0                True                 False                        0   \n",
      "1                True                 False                        0   \n",
      "2                True                 False                        0   \n",
      "3                True                 False                        0   \n",
      "4                True                 False                        0   \n",
      "\n",
      "   trace_attr_case  trace_attr_religious           resource  \\\n",
      "0                1                 False         Front Desk   \n",
      "1                1                 False             HR-pro   \n",
      "2                1                 False             HR-pro   \n",
      "3                1                 False     Senior Partner   \n",
      "4                1                 False  deepResearch Inc.   \n",
      "\n",
      "                       time                concept:name  \\\n",
      "0 2015-01-05 00:00:42+00:00     Hand In Job Application   \n",
      "1 2015-01-05 22:14:11+00:00        Telephonic Screening   \n",
      "2 2015-01-06 20:26:43+00:00            Background Check   \n",
      "3 2015-01-06 20:26:43+00:00         Screening Interview   \n",
      "4 2015-01-07 18:40:58+00:00  Extensive Background Check   \n",
      "\n",
      "             time:timestamp  @@index  \n",
      "0 2015-01-05 00:00:42+00:00        0  \n",
      "1 2015-01-05 22:14:11+00:00        1  \n",
      "2 2015-01-06 20:26:43+00:00        2  \n",
      "3 2015-01-06 20:26:43+00:00        3  \n",
      "4 2015-01-07 18:40:58+00:00        4  \n"
     ]
    }
   ],
   "source": [
    "print(event_log_df_full.head())"
   ]
  },
  {
   "cell_type": "code",
   "execution_count": 8,
   "metadata": {},
   "outputs": [
    {
     "name": "stdout",
     "output_type": "stream",
     "text": [
      "  trace_id  \\\n",
      "0        1   \n",
      "1       10   \n",
      "2      100   \n",
      "3     1000   \n",
      "4    10000   \n",
      "\n",
      "                                                                                                                                                                   activity  \\\n",
      "0                                  [Hand In Job Application, Telephonic Screening, Background Check, Screening Interview, Extensive Background Check, Application Rejected]   \n",
      "1                                                                                                                           [Hand In Job Application, Application Rejected]   \n",
      "2                                                              [Hand In Job Application, Telephonic Screening, Screening Interview, Background Check, Application Rejected]   \n",
      "3  [Hand In Job Application, Telephonic Screening, Background Check, Screening Interview, Extensive Background Check, Coding Interview, ML Interview, Application Rejected]   \n",
      "4                              [Hand In Job Application, Telephonic Screening, Background Check, Screening Interview, Coding Interview, ML Interview, Application Rejected]   \n",
      "\n",
      "  trace_attr_concept:name  trace_attr_german speaking  \\\n",
      "0                       1                       False   \n",
      "1                      10                        True   \n",
      "2                     100                       False   \n",
      "3                    1000                       False   \n",
      "4                   10000                        True   \n",
      "\n",
      "   trace_attr_yearsOfEducation  trace_attr_age  trace_attr_gender  \\\n",
      "0                            8              25              False   \n",
      "1                            6              78               True   \n",
      "2                            8              50              False   \n",
      "3                           11              53              False   \n",
      "4                            7              54              False   \n",
      "\n",
      "   trace_attr_citizen  trace_attr_protected  trace_attr_@@case_index  \\\n",
      "0                True                 False                        0   \n",
      "1               False                  True                        1   \n",
      "2               False                 False                        2   \n",
      "3               False                 False                        3   \n",
      "4               False                 False                        4   \n",
      "\n",
      "   trace_attr_case  trace_attr_religious  \n",
      "0                1                 False  \n",
      "1               10                  True  \n",
      "2              100                  True  \n",
      "3             1000                 False  \n",
      "4            10000                 False  \n"
     ]
    }
   ],
   "source": [
    "# Seleção de colunas relevantes\n",
    "columns_to_keep = ['trace_id', 'activity', 'timestamp'] + [col for col in event_log_df_full.columns if col.startswith('trace_attr')]\n",
    "filtered_log_full = event_log_df_full[columns_to_keep]\n",
    "\n",
    "# Ordenação dos eventos por traço e timestamp\n",
    "if 'timestamp' in filtered_log_full.columns:\n",
    "    filtered_log_full = filtered_log_full.sort_values(by=['trace_id', 'timestamp'])\n",
    "\n",
    "# Agrupamento de atividades por traço\n",
    "trace_sequences_full = filtered_log_full.groupby('trace_id').agg({\n",
    "    'activity': list,  # Agrupar as atividades em uma lista\n",
    "    **{col: 'first' for col in columns_to_keep if col.startswith('trace_attr')}  # Preservar atributos do traço\n",
    "}).reset_index()\n",
    "\n",
    "# Exibir os primeiros traços processados com atributos\n",
    "print(trace_sequences_full.head())\n"
   ]
  },
  {
   "cell_type": "code",
   "execution_count": 9,
   "metadata": {},
   "outputs": [],
   "source": [
    "# Transformar listas de atividades em strings\n",
    "trace_strings = trace_sequences_full['activity'].apply(lambda x: ' '.join(x))\n",
    "\n",
    "# Aplicar Count2Vec para codificar atividades\n",
    "vectorizer = CountVectorizer()\n",
    "activity_vectors = vectorizer.fit_transform(trace_strings)"
   ]
  },
  {
   "cell_type": "code",
   "execution_count": 10,
   "metadata": {},
   "outputs": [],
   "source": [
    "# Selecionar os atributos sensíveis\n",
    "sensitive_attributes = trace_sequences_full[[col for col in trace_sequences_full.columns if col.startswith('trace_attr')]]\n",
    "\n",
    "# Normalizar os atributos numéricos\n",
    "scaler = StandardScaler()\n",
    "sensitive_attributes_scaled = scaler.fit_transform(sensitive_attributes)\n",
    "\n",
    "# Combinar atividades e atributos sensíveis\n",
    "combined_features = np.hstack([activity_vectors.toarray(), sensitive_attributes_scaled])"
   ]
  },
  {
   "cell_type": "code",
   "execution_count": 11,
   "metadata": {},
   "outputs": [],
   "source": [
    "# Aplicar DBSCAN\n",
    "dbscan = DBSCAN(eps=1.5, min_samples=5)  # Ajuste os parâmetros conforme necessário\n",
    "clusters = dbscan.fit_predict(combined_features)\n",
    "\n",
    "# Adicionar clusters ao DataFrame\n",
    "trace_sequences_full['cluster'] = clusters\n"
   ]
  },
  {
   "cell_type": "code",
   "execution_count": 12,
   "metadata": {},
   "outputs": [
    {
     "name": "stdout",
     "output_type": "stream",
     "text": [
      "Média de idade por cluster:\n",
      "cluster\n",
      "-1      53.690117\n",
      " 0      49.791667\n",
      " 1      51.325301\n",
      " 2      50.198473\n",
      " 3      48.000000\n",
      "          ...    \n",
      " 210    37.571429\n",
      " 211    52.166667\n",
      " 212    48.500000\n",
      " 213    58.600000\n",
      " 214    77.500000\n",
      "Name: trace_attr_age, Length: 216, dtype: float64\n",
      "Distribuição de religião por cluster:\n",
      "cluster  trace_attr_religious\n",
      "-1       False                   0.513568\n",
      "         True                    0.486432\n",
      " 0       True                    1.000000\n",
      " 1       False                   1.000000\n",
      " 2       True                    1.000000\n",
      "                                   ...   \n",
      " 210     False                   1.000000\n",
      " 211     False                   1.000000\n",
      " 212     True                    1.000000\n",
      " 213     False                   1.000000\n",
      " 214     False                   1.000000\n",
      "Name: proportion, Length: 217, dtype: float64\n"
     ]
    }
   ],
   "source": [
    "# Analisar distribuição de idade por cluster (se 'trace_attr_age' estiver presente)\n",
    "age_distribution = trace_sequences_full.groupby('cluster')['trace_attr_age'].mean()\n",
    "print(\"Média de idade por cluster:\")\n",
    "print(age_distribution)\n",
    "\n",
    "# Analisar distribuição de religião por cluster (se 'trace_attr_religion' estiver presente)\n",
    "religion_distribution = trace_sequences_full.groupby('cluster')['trace_attr_religious'].value_counts(normalize=True)\n",
    "print(\"Distribuição de religião por cluster:\")\n",
    "print(religion_distribution)"
   ]
  },
  {
   "cell_type": "code",
   "execution_count": 13,
   "metadata": {},
   "outputs": [
    {
     "name": "stdout",
     "output_type": "stream",
     "text": [
      "  trace_id  \\\n",
      "0        1   \n",
      "1       10   \n",
      "4    10000   \n",
      "6     1002   \n",
      "7     1003   \n",
      "\n",
      "                                                                                                                                                                                 activity  \\\n",
      "0                                                [Hand In Job Application, Telephonic Screening, Background Check, Screening Interview, Extensive Background Check, Application Rejected]   \n",
      "1                                                                                                                                         [Hand In Job Application, Application Rejected]   \n",
      "4                                            [Hand In Job Application, Telephonic Screening, Background Check, Screening Interview, Coding Interview, ML Interview, Application Rejected]   \n",
      "6                                                [Hand In Job Application, Telephonic Screening, Background Check, Screening Interview, Extensive Background Check, Application Rejected]   \n",
      "7  [Hand In Job Application, Telephonic Screening, Screening Interview, Background Check, Coding Interview, Frontend Interview, ML Interview, Application Rejected, Application Rejected]   \n",
      "\n",
      "   trace_attr_age  trace_attr_religious  \n",
      "0              25                 False  \n",
      "1              78                  True  \n",
      "4              54                 False  \n",
      "6              63                  True  \n",
      "7              54                  True  \n"
     ]
    }
   ],
   "source": [
    "# Filtrar os traços de um cluster específico\n",
    "cluster_to_analyze = -1  # Substitua pelo número do cluster desejado\n",
    "cluster_data = trace_sequences_full[trace_sequences_full['cluster'] == cluster_to_analyze]\n",
    "\n",
    "# Visualizar exemplos de traços no cluster\n",
    "print(cluster_data[['trace_id', 'activity', 'trace_attr_age', 'trace_attr_religious']].head())\n"
   ]
  },
  {
   "cell_type": "code",
   "execution_count": 14,
   "metadata": {},
   "outputs": [],
   "source": [
    "# Salvar os traços de um cluster para arquivo\n",
    "cluster_data.to_csv(f'cluster_{cluster_to_analyze}_details.csv', index=False)"
   ]
  },
  {
   "cell_type": "code",
   "execution_count": 15,
   "metadata": {},
   "outputs": [
    {
     "name": "stdout",
     "output_type": "stream",
     "text": [
      "        count unique    top  freq\n",
      "cluster                          \n",
      "-1       2985      2  False  1533\n",
      " 0        264      1   True   264\n",
      " 1         83      1  False    83\n",
      " 2        262      1   True   262\n",
      " 3         92      1  False    92\n",
      "...       ...    ...    ...   ...\n",
      " 210        7      1  False     7\n",
      " 211        6      1  False     6\n",
      " 212        4      1   True     4\n",
      " 213        5      1  False     5\n",
      " 214        4      1  False     4\n",
      "\n",
      "[216 rows x 4 columns]\n",
      "cluster  trace_attr_religious\n",
      "-1       False                   0.513568\n",
      "         True                    0.486432\n",
      " 0       True                    1.000000\n",
      " 1       False                   1.000000\n",
      " 2       True                    1.000000\n",
      "                                   ...   \n",
      " 210     False                   1.000000\n",
      " 211     False                   1.000000\n",
      " 212     True                    1.000000\n",
      " 213     False                   1.000000\n",
      " 214     False                   1.000000\n",
      "Name: proportion, Length: 217, dtype: float64\n"
     ]
    }
   ],
   "source": [
    "# Estatísticas descritivas por cluster\n",
    "attribute_to_compare = 'trace_attr_religious'  \n",
    "# Estatísticas descritivas por cluster\n",
    "cluster_stats = trace_sequences_full.groupby('cluster')[attribute_to_compare].describe()\n",
    "print(cluster_stats)\n",
    "\n",
    "# Distribuição proporcional por religião\n",
    "religion_distribution = trace_sequences_full.groupby('cluster')['trace_attr_religious'].value_counts(normalize=True)\n",
    "print(religion_distribution)"
   ]
  },
  {
   "cell_type": "code",
   "execution_count": 16,
   "metadata": {},
   "outputs": [
    {
     "name": "stdout",
     "output_type": "stream",
     "text": [
      "      cluster                 activity  count\n",
      "7          -1  Hand In Job Application   2985\n",
      "11         -1     Telephonic Screening   2859\n",
      "2          -1         Background Check   2715\n",
      "10         -1      Screening Interview   2715\n",
      "0          -1     Application Rejected   2617\n",
      "...       ...                      ...    ...\n",
      "1704      214     Application Rejected      4\n",
      "1705      214         Background Check      4\n",
      "1706      214  Hand In Job Application      4\n",
      "1707      214      Screening Interview      4\n",
      "1708      214     Telephonic Screening      4\n",
      "\n",
      "[1709 rows x 3 columns]\n"
     ]
    }
   ],
   "source": [
    "# Explodir as atividades para contar individualmente\n",
    "exploded_log = trace_sequences_full.explode('activity')\n",
    "\n",
    "# Contar a frequência de cada atividade por cluster\n",
    "activity_counts = exploded_log.groupby(['cluster', 'activity']).size().reset_index(name='count')\n",
    "\n",
    "# Exibir as atividades mais frequentes em cada cluster\n",
    "top_activities_by_cluster = activity_counts.sort_values(['cluster', 'count'], ascending=[True, False])\n",
    "print(top_activities_by_cluster)\n"
   ]
  },
  {
   "cell_type": "code",
   "execution_count": 17,
   "metadata": {},
   "outputs": [
    {
     "name": "stdout",
     "output_type": "stream",
     "text": [
      "      cluster        activity  count\n",
      "9          -1  Make Job Offer   2412\n",
      "38          3  Make Job Offer     92\n",
      "82          8  Make Job Offer     30\n",
      "118        14  Make Job Offer     82\n",
      "139        17  Make Job Offer     62\n",
      "...       ...             ...    ...\n",
      "1646      206  Make Job Offer     10\n",
      "1660      208  Make Job Offer      6\n",
      "1670      209  Make Job Offer      6\n",
      "1680      210  Make Job Offer     14\n",
      "1701      213  Make Job Offer     10\n",
      "\n",
      "[107 rows x 3 columns]\n"
     ]
    }
   ],
   "source": [
    "# Filtrar para uma atividade específica\n",
    "activity_to_check = \"Make Job Offer\"  # Substitua pelo nome da atividade\n",
    "activity_presence = activity_counts[activity_counts['activity'] == activity_to_check]\n",
    "\n",
    "# Exibir frequência da atividade por cluster\n",
    "print(activity_presence)"
   ]
  },
  {
   "cell_type": "code",
   "execution_count": 18,
   "metadata": {},
   "outputs": [],
   "source": [
    "\n",
    "# Calcular as distâncias entre os clusters\n",
    "linkage_matrix = linkage(combined_features, method='ward')"
   ]
  },
  {
   "cell_type": "code",
   "execution_count": 19,
   "metadata": {},
   "outputs": [
    {
     "data": {
      "image/png": "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",
      "text/plain": [
       "<Figure size 1200x800 with 1 Axes>"
      ]
     },
     "metadata": {},
     "output_type": "display_data"
    }
   ],
   "source": [
    "# Plotar o dendrograma\n",
    "plt.figure(figsize=(12, 8))\n",
    "dendrogram(linkage_matrix)\n",
    "plt.title(\"Dendrograma do Agrupamento Hierárquico Count2Vec\")\n",
    "plt.xlabel(\"Amostras\")\n",
    "plt.ylabel(\"Distância\")\n",
    "plt.show()\n",
    "\n",
    "# Escolher um número menor de clusters (exemplo: 10 clusters)\n",
    "new_clusters = fcluster(linkage_matrix, t=10, criterion='maxclust')\n",
    "\n",
    "# Adicionar os novos clusters ao DataFrame\n",
    "trace_sequences_full['hierarchical_cluster'] = new_clusters"
   ]
  },
  {
   "cell_type": "code",
   "execution_count": 20,
   "metadata": {},
   "outputs": [],
   "source": [
    "n_clusters = 2\n",
    "clusters = fcluster(linkage_matrix, t=n_clusters, criterion='maxclust')\n",
    "\n",
    "# Adicionar os clusters ao DataFrame\n",
    "trace_sequences_full['hierarchical_cluster'] = clusters"
   ]
  },
  {
   "cell_type": "code",
   "execution_count": 21,
   "metadata": {},
   "outputs": [],
   "source": [
    "# Gerar os clusters com base no número escolhido (2 clusters)\n",
    "clusters = fcluster(linkage_matrix, t=2, criterion='maxclust')\n",
    "\n",
    "# Adicionar os clusters ao DataFrame\n",
    "trace_sequences_full['cluster'] = clusters"
   ]
  },
  {
   "cell_type": "code",
   "execution_count": 22,
   "metadata": {},
   "outputs": [
    {
     "data": {
      "image/png": "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",
      "text/plain": [
       "<Figure size 800x600 with 1 Axes>"
      ]
     },
     "metadata": {},
     "output_type": "display_data"
    }
   ],
   "source": [
    "# Contar o número de elementos em cada cluster\n",
    "cluster_counts = trace_sequences_full['cluster'].value_counts()\n",
    "\n",
    "# Plotar a distribuição\n",
    "plt.figure(figsize=(8, 6))\n",
    "cluster_counts.plot(kind='bar', color=['blue', 'orange'])\n",
    "plt.title(\"Distribuição de Amostras por Cluster\")\n",
    "plt.xlabel(\"Cluster\")\n",
    "plt.ylabel(\"Número de Amostras\")\n",
    "plt.xticks(rotation=0)\n",
    "plt.show()"
   ]
  },
  {
   "cell_type": "code",
   "execution_count": 23,
   "metadata": {},
   "outputs": [
    {
     "data": {
      "image/png": "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",
      "text/plain": [
       "<Figure size 1000x600 with 1 Axes>"
      ]
     },
     "metadata": {},
     "output_type": "display_data"
    }
   ],
   "source": [
    "# Exemplo com 'religião' (proporção de valores True/False)\n",
    "religion_distribution = trace_sequences_full.groupby('cluster')['trace_attr_protected'].value_counts(normalize=True).unstack()\n",
    "religion_distribution.plot(kind='bar', stacked=True, figsize=(10, 6), color=['blue', 'orange'])\n",
    "plt.title(\"Distribuição de Protegido por Cluster\")\n",
    "plt.xlabel(\"Cluster\")\n",
    "plt.ylabel(\"Proporção\")\n",
    "plt.legend([\"False\", \"True\"])\n",
    "plt.show()"
   ]
  },
  {
   "cell_type": "code",
   "execution_count": 24,
   "metadata": {},
   "outputs": [
    {
     "name": "stdout",
     "output_type": "stream",
     "text": [
      "cluster  activity               \n",
      "1        Behavioral Interview       4590\n",
      "         Make Job Offer             4590\n",
      "         Background Check           3789\n",
      "         Coding Interview           3789\n",
      "         Hand In Job Application    3789\n",
      "2        Application Rejected       6237\n",
      "         Hand In Job Application    6211\n",
      "         Telephonic Screening       5643\n",
      "         Background Check           5111\n",
      "         Screening Interview        5111\n",
      "Name: count, dtype: int64\n"
     ]
    }
   ],
   "source": [
    "# Explodir a coluna de listas em várias linhas\n",
    "exploded_df = trace_sequences_full.explode('activity')\n",
    "\n",
    "# Contar as 5 atividades mais comuns por cluster\n",
    "top_sequences = (\n",
    "    exploded_df.groupby('cluster')['activity']\n",
    "    .value_counts()\n",
    "    .groupby(level=0)\n",
    "    .head(5)\n",
    ")\n",
    "print(top_sequences)\n"
   ]
  },
  {
   "cell_type": "code",
   "execution_count": 25,
   "metadata": {},
   "outputs": [
    {
     "name": "stdout",
     "output_type": "stream",
     "text": [
      "['Hand In Job Application' 'Telephonic Screening' 'Background Check'\n",
      " 'Screening Interview' 'Extensive Background Check' 'Application Rejected'\n",
      " 'Coding Interview' 'ML Interview' 'Frontend Interview'\n",
      " 'Backend Interview' 'Behavioral Interview' 'Make Job Offer']\n"
     ]
    }
   ],
   "source": [
    "# Nome da atividade que você quer analisar\n",
    "activity_to_check = \"Make Job Offer \"  # Substitua pelo nome da sua atividade\n",
    "\n",
    "# Explodir a coluna 'activity' para analisar cada atividade individualmente\n",
    "exploded_df = trace_sequences_full.explode('activity')\n",
    "\n",
    "print(exploded_df['activity'].unique())"
   ]
  },
  {
   "cell_type": "code",
   "execution_count": 26,
   "metadata": {},
   "outputs": [],
   "source": [
    "activity_to_check = \"Make Job Offer\" "
   ]
  },
  {
   "cell_type": "code",
   "execution_count": 27,
   "metadata": {},
   "outputs": [
    {
     "name": "stdout",
     "output_type": "stream",
     "text": [
      "Linhas encontradas para a atividade 'Make Job Offer': 4889\n"
     ]
    }
   ],
   "source": [
    "# Filtrar para linhas que correspondem à atividade\n",
    "filtered_data = exploded_df[exploded_df['activity'] == activity_to_check]\n",
    "\n",
    "# Verificar se o filtro retornou resultados\n",
    "if filtered_data.empty:\n",
    "    print(f\"A atividade '{activity_to_check}' não foi encontrada após a explosão.\")\n",
    "else:\n",
    "    print(f\"Linhas encontradas para a atividade '{activity_to_check}': {len(filtered_data)}\")\n"
   ]
  },
  {
   "cell_type": "code",
   "execution_count": 28,
   "metadata": {},
   "outputs": [
    {
     "name": "stdout",
     "output_type": "stream",
     "text": [
      "cluster\n",
      "1    4590\n",
      "2     299\n",
      "Name: count, dtype: int64\n"
     ]
    }
   ],
   "source": [
    "activity_distribution = filtered_data['cluster'].value_counts()\n",
    "print(activity_distribution)"
   ]
  },
  {
   "cell_type": "code",
   "execution_count": 29,
   "metadata": {},
   "outputs": [
    {
     "name": "stdout",
     "output_type": "stream",
     "text": [
      "  trace_id                    activity trace_attr_concept:name  \\\n",
      "0        1     Hand In Job Application                       1   \n",
      "0        1        Telephonic Screening                       1   \n",
      "0        1            Background Check                       1   \n",
      "0        1         Screening Interview                       1   \n",
      "0        1  Extensive Background Check                       1   \n",
      "\n",
      "   trace_attr_german speaking  trace_attr_yearsOfEducation  trace_attr_age  \\\n",
      "0                       False                            8              25   \n",
      "0                       False                            8              25   \n",
      "0                       False                            8              25   \n",
      "0                       False                            8              25   \n",
      "0                       False                            8              25   \n",
      "\n",
      "   trace_attr_gender  trace_attr_citizen  trace_attr_protected  \\\n",
      "0              False                True                 False   \n",
      "0              False                True                 False   \n",
      "0              False                True                 False   \n",
      "0              False                True                 False   \n",
      "0              False                True                 False   \n",
      "\n",
      "   trace_attr_@@case_index  trace_attr_case  trace_attr_religious  cluster  \\\n",
      "0                        0                1                 False        2   \n",
      "0                        0                1                 False        2   \n",
      "0                        0                1                 False        2   \n",
      "0                        0                1                 False        2   \n",
      "0                        0                1                 False        2   \n",
      "\n",
      "   hierarchical_cluster  \n",
      "0                     2  \n",
      "0                     2  \n",
      "0                     2  \n",
      "0                     2  \n",
      "0                     2  \n",
      "[<class 'str'>]\n"
     ]
    }
   ],
   "source": [
    "# Verifique algumas amostras após a explosão\n",
    "print(exploded_df.head())\n",
    "\n",
    "# Confirme o tipo dos dados na coluna 'activity'\n",
    "print(exploded_df['activity'].apply(type).unique())"
   ]
  },
  {
   "cell_type": "code",
   "execution_count": 30,
   "metadata": {},
   "outputs": [
    {
     "name": "stdout",
     "output_type": "stream",
     "text": [
      "['Hand In Job Application' 'Telephonic Screening' 'Background Check'\n",
      " 'Screening Interview' 'Extensive Background Check' 'Application Rejected'\n",
      " 'Coding Interview' 'ML Interview' 'Frontend Interview'\n",
      " 'Backend Interview' 'Behavioral Interview' 'Make Job Offer']\n"
     ]
    }
   ],
   "source": [
    "unique_activities = exploded_df['activity'].unique()\n",
    "print(unique_activities)"
   ]
  },
  {
   "cell_type": "code",
   "execution_count": 31,
   "metadata": {},
   "outputs": [
    {
     "name": "stdout",
     "output_type": "stream",
     "text": [
      "Número de ocorrências de 'Make Job Offer': 4889\n"
     ]
    }
   ],
   "source": [
    "# Nome da atividade que queremos analisar\n",
    "activity_to_check = \"Make Job Offer\"\n",
    "\n",
    "# Filtrar as linhas com a atividade desejada\n",
    "filtered_data = exploded_df[exploded_df['activity'] == activity_to_check]\n",
    "\n",
    "# Verificar o número de linhas encontradas\n",
    "print(f\"Número de ocorrências de '{activity_to_check}': {len(filtered_data)}\")\n"
   ]
  },
  {
   "cell_type": "code",
   "execution_count": 32,
   "metadata": {},
   "outputs": [
    {
     "name": "stdout",
     "output_type": "stream",
     "text": [
      "cluster\n",
      "1    4590\n",
      "2     299\n",
      "Name: count, dtype: int64\n"
     ]
    }
   ],
   "source": [
    "# Contar a frequência da atividade por cluster\n",
    "activity_distribution = filtered_data['cluster'].value_counts()\n",
    "print(activity_distribution)\n"
   ]
  },
  {
   "cell_type": "code",
   "execution_count": 33,
   "metadata": {},
   "outputs": [
    {
     "data": {
      "image/png": "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",
      "text/plain": [
       "<Figure size 800x600 with 1 Axes>"
      ]
     },
     "metadata": {},
     "output_type": "display_data"
    }
   ],
   "source": [
    "import matplotlib.pyplot as plt\n",
    "\n",
    "# Plotar a distribuição\n",
    "plt.figure(figsize=(8, 6))\n",
    "activity_distribution.sort_index().plot(kind='bar', color='skyblue')\n",
    "plt.title(f\"Distribuição da Atividade '{activity_to_check}' nos Clusters\")\n",
    "plt.xlabel(\"Cluster\")\n",
    "plt.ylabel(\"Número de Ocorrências\")\n",
    "plt.xticks(rotation=0)\n",
    "plt.show()\n"
   ]
  },
  {
   "cell_type": "code",
   "execution_count": 34,
   "metadata": {},
   "outputs": [],
   "source": [
    "filtered_data.to_csv(f\"{activity_to_check}_distribution.csv\", index=False)\n"
   ]
  }
 ],
 "metadata": {
  "kernelspec": {
   "display_name": ".venv",
   "language": "python",
   "name": "python3"
  },
  "language_info": {
   "codemirror_mode": {
    "name": "ipython",
    "version": 3
   },
   "file_extension": ".py",
   "mimetype": "text/x-python",
   "name": "python",
   "nbconvert_exporter": "python",
   "pygments_lexer": "ipython3",
   "version": "3.12.7"
  }
 },
 "nbformat": 4,
 "nbformat_minor": 2
}
